{
 "cells": [
  {
   "cell_type": "code",
   "execution_count": 1,
   "metadata": {
    "scrolled": true
   },
   "outputs": [],
   "source": [
    "from selenium import webdriver\n",
    "from selenium.webdriver.common.by import By\n",
    "from selenium.webdriver.support.ui import WebDriverWait\n",
    "from selenium.webdriver.support import expected_conditions as EC\n",
    "from selenium.webdriver.firefox.options import Options as FirefoxOptions\n",
    "\n",
    "import time\n",
    "import queue\n",
    "import pickle\n"
   ]
  },
  {
   "cell_type": "code",
   "execution_count": 11,
   "metadata": {},
   "outputs": [],
   "source": [
    "driver = webdriver.Firefox(executable_path='geckodriver.exe')\n",
    "keyword = 'cost-accounting'\n",
    "driver.get(\"https://www.udemy.com/topic/\"+keyword+\"/\")\n",
    "wait = WebDriverWait(driver, 10)\n",
    "time.sleep(5)"
   ]
  },
  {
   "cell_type": "code",
   "execution_count": 13,
   "metadata": {
    "scrolled": false
   },
   "outputs": [
    {
     "name": "stdout",
     "output_type": "stream",
     "text": [
      "1 1 https://www.udemy.com/course/managementaccounting/\n",
      "1 2 https://www.udemy.com/course/expanded-managerial-accounting/\n",
      "1 3 https://www.udemy.com/course/cost-accounting-and-financial-management-a-complete-study/\n",
      "1 4 https://www.udemy.com/course/cost-accounting-a-comprehensive-study/\n",
      "1 5 https://www.udemy.com/course/process-costing-system-cost-accounting-managerial-accounting/\n",
      "1 6 https://www.udemy.com/course/cost-and-managerial-accounting-part-1/\n",
      "1 7 https://www.udemy.com/course/how-to-control-your-costs-and-increase-profitability/\n",
      "1 8 https://business.udemy.com/request-demo/?ref=right-rail&locale=en_US\n",
      "1 9 https://www.udemy.com/course/introduction-to-cost-accounting/\n",
      "1 10 https://www.udemy.com/course/accounting-101-learn-cost-accounting-from-a-cfo/\n",
      "1 11 https://www.udemy.com/course/variable-absorption-and-activity-based-costing/\n",
      "1 12 https://www.udemy.com/course/first-steps-into-management-accounting/\n",
      "1 13 https://www.udemy.com/course/dr-johns-understanding-cost-accounting-job-costs-abc/\n",
      "1 14 https://www.udemy.com/course/break-even-analysis-for-business-decision-making/\n",
      "1 15 https://www.udemy.com/course/cost-accounting-g/\n",
      "1 16 https://www.udemy.com/course/problems-solutions-in-cost-accounting/\n",
      "2 1 https://www.udemy.com/course/managementaccounting/\n",
      "2 2 https://www.udemy.com/course/expanded-managerial-accounting/\n",
      "2 3 https://www.udemy.com/course/cost-accounting-and-financial-management-a-complete-study/\n",
      "2 4 https://www.udemy.com/course/cost-accounting-a-comprehensive-study/\n",
      "2 5 https://www.udemy.com/course/process-costing-system-cost-accounting-managerial-accounting/\n",
      "2 6 https://www.udemy.com/course/cost-and-managerial-accounting-part-1/\n",
      "2 7 https://www.udemy.com/course/how-to-control-your-costs-and-increase-profitability/\n",
      "2 8 https://business.udemy.com/request-demo/?ref=right-rail&locale=en_US\n",
      "2 9 https://www.udemy.com/course/introduction-to-cost-accounting/\n",
      "2 10 https://www.udemy.com/course/accounting-101-learn-cost-accounting-from-a-cfo/\n",
      "2 11 https://www.udemy.com/course/variable-absorption-and-activity-based-costing/\n",
      "2 12 https://www.udemy.com/course/first-steps-into-management-accounting/\n",
      "2 13 https://www.udemy.com/course/dr-johns-understanding-cost-accounting-job-costs-abc/\n",
      "2 14 https://www.udemy.com/course/break-even-analysis-for-business-decision-making/\n",
      "2 15 https://www.udemy.com/course/cost-accounting-g/\n",
      "2 16 https://www.udemy.com/course/problems-solutions-in-cost-accounting/\n",
      "32\n",
      "['https://www.udemy.com/course/managementaccounting/', 'https://www.udemy.com/course/expanded-managerial-accounting/', 'https://www.udemy.com/course/cost-accounting-and-financial-management-a-complete-study/', 'https://www.udemy.com/course/cost-accounting-a-comprehensive-study/', 'https://www.udemy.com/course/process-costing-system-cost-accounting-managerial-accounting/', 'https://www.udemy.com/course/cost-and-managerial-accounting-part-1/', 'https://www.udemy.com/course/how-to-control-your-costs-and-increase-profitability/', 'https://business.udemy.com/request-demo/?ref=right-rail&locale=en_US', 'https://www.udemy.com/course/introduction-to-cost-accounting/', 'https://www.udemy.com/course/accounting-101-learn-cost-accounting-from-a-cfo/', 'https://www.udemy.com/course/variable-absorption-and-activity-based-costing/', 'https://www.udemy.com/course/first-steps-into-management-accounting/', 'https://www.udemy.com/course/dr-johns-understanding-cost-accounting-job-costs-abc/', 'https://www.udemy.com/course/break-even-analysis-for-business-decision-making/', 'https://www.udemy.com/course/cost-accounting-g/', 'https://www.udemy.com/course/problems-solutions-in-cost-accounting/', 'https://www.udemy.com/course/managementaccounting/', 'https://www.udemy.com/course/expanded-managerial-accounting/', 'https://www.udemy.com/course/cost-accounting-and-financial-management-a-complete-study/', 'https://www.udemy.com/course/cost-accounting-a-comprehensive-study/', 'https://www.udemy.com/course/process-costing-system-cost-accounting-managerial-accounting/', 'https://www.udemy.com/course/cost-and-managerial-accounting-part-1/', 'https://www.udemy.com/course/how-to-control-your-costs-and-increase-profitability/', 'https://business.udemy.com/request-demo/?ref=right-rail&locale=en_US', 'https://www.udemy.com/course/introduction-to-cost-accounting/', 'https://www.udemy.com/course/accounting-101-learn-cost-accounting-from-a-cfo/', 'https://www.udemy.com/course/variable-absorption-and-activity-based-costing/', 'https://www.udemy.com/course/first-steps-into-management-accounting/', 'https://www.udemy.com/course/dr-johns-understanding-cost-accounting-job-costs-abc/', 'https://www.udemy.com/course/break-even-analysis-for-business-decision-making/', 'https://www.udemy.com/course/cost-accounting-g/', 'https://www.udemy.com/course/problems-solutions-in-cost-accounting/']\n"
     ]
    }
   ],
   "source": [
    "links = list()\n",
    "searchResultlen = 3\n",
    "for page in range(1,searchResultlen):\n",
    "    for count in range(1,17): \n",
    "#         xpath = \"/html/body/div[1]/div[3]/div/div/div[8]/div[2]/div[\"+str(count)+\"]/div/a\"\n",
    "        xpath = \"/html/body/div[1]/div[3]/div/div/div[7]/div[2]/div[\"+str(count)+\"]/div/a\"\n",
    "        try:\n",
    "            temp = str(driver.find_element_by_xpath(xpath).get_attribute(\"href\"))\n",
    "            links.append(temp)\n",
    "            print(page, count, temp)\n",
    "            \n",
    "        except Exception as e:\n",
    "            print(e)\n",
    "    try:\n",
    "        driver.find_element_by_class_name(\"pagination-next.udi.udi-next\").click()\n",
    "    except:\n",
    "        pass\n",
    "    time.sleep(1)\n",
    "print(len(links))\n",
    "print(links)\n",
    "\n",
    "with open(\"links.pickle\", \"wb\") as f:\n",
    "    pickle.dump(links, f)"
   ]
  },
  {
   "cell_type": "code",
   "execution_count": 14,
   "metadata": {
    "scrolled": true
   },
   "outputs": [],
   "source": [
    "with open(\"links.pickle\", \"rb\") as f:\n",
    "    links = pickle.load(f)"
   ]
  },
  {
   "cell_type": "code",
   "execution_count": 15,
   "metadata": {},
   "outputs": [],
   "source": [
    "global q, count, threadAlive\n",
    "count = 0\n",
    "q = queue.Queue()\n",
    "threadAlive = 0\n",
    "def downData(link):\n",
    "    global threadAlive, count, q\n",
    "    try:\n",
    "        threadAlive += 1\n",
    "        options = FirefoxOptions()\n",
    "        options.add_argument(\"--headless\")\n",
    "#         driver = webdriver.Firefox(options=options)\n",
    "        driver = webdriver.Firefox(executable_path='geckodriver.exe', options=options)\n",
    "        driver.get(link)\n",
    "        time.sleep(5)\n",
    "        instructors = []\n",
    "        fbLink = \"\"\n",
    "        twLink = \"\"\n",
    "        instaLink = \"\"\n",
    "        youtLink = \"\"\n",
    "        linkeLink = \"\"\n",
    "        webLink = \"\"\n",
    "        courseName = \"\"\n",
    "        rating = \"\"\n",
    "        price = \"\"\n",
    "        duration = \"\"\n",
    "        currentPrice = \"\"\n",
    "        originalPrice = \"\"\n",
    "        discount = \"\"\n",
    "        instructorsInfo = []\n",
    "        try:\n",
    "            obj = driver.find_elements_by_class_name('rate-count')\n",
    "            for item in obj:\n",
    "                if item.text:\n",
    "                    rating = item.text.split(\" \")[0]\n",
    "                    print(rating)\n",
    "        except:\n",
    "            print(\"Couldn't found rating\")\n",
    "        try:\n",
    "            price = driver.find_element_by_class_name('price-text-container.price-text--base-price__container--Xwk8v').text.split(\"\\n\")\n",
    "            currentPrice = price[1]\n",
    "            originalPrice = price[3]\n",
    "            discount = price[5].replace(\" off\", \"\")\n",
    "        except:\n",
    "            print(\"Couldn't found price\")\n",
    "        try:\n",
    "            duration = driver.find_element_by_class_name('incentives__text').text.split(\" \")\n",
    "        except:\n",
    "            print(\"Couldn't found duration\")\n",
    "        try:\n",
    "            courseName = driver.find_element_by_tag_name('h1').text\n",
    "        except Exception as e:\n",
    "            print(e, \" ---- course Name\")\n",
    "            print(link)\n",
    "        elems = driver.find_element_by_class_name(\"instructor\").find_elements_by_class_name(\"instructor--title__link--1NJ6S\")\n",
    "        for elem in elems:\n",
    "            instructors.append(str(elem.get_attribute(\"href\")))\n",
    "        for instructor in instructors:\n",
    "            driver.get(instructor)\n",
    "            time.sleep(3)\n",
    "            elems = driver.find_element_by_class_name(\"instructor__social\").find_elements_by_class_name(\"social__link\")\n",
    "            for elem in elems:\n",
    "                if \"facebook\" in elem.get_attribute(\"href\"):\n",
    "                    fbLink = elem.get_attribute(\"href\")\n",
    "                elif \"twitter\" in elem.get_attribute(\"href\"):\n",
    "                    twLink = elem.get_attribute(\"href\")\n",
    "                elif \"instagram\" in elem.get_attribute(\"href\"):\n",
    "                    instaLink = elem.get_attribute(\"href\")\n",
    "                elif \"youtube\" in elem.get_attribute(\"href\"):\n",
    "                    youtLink = elem.get_attribute(\"href\")\n",
    "                elif \"linkedin\" in elem.get_attribute(\"href\"):\n",
    "                    linkeLink = elem.get_attribute(\"href\")\n",
    "                else:\n",
    "                    webLink = elem.get_attribute(\"href\")\n",
    "\n",
    "            instructorsInfo = driver.find_element_by_class_name(\"jumbotron-header-bar__inner\").text.split(\"\\n\")\n",
    "\n",
    "            tmpData = {\n",
    "\n",
    "                        \"InstructorName\": instructorsInfo[0],\n",
    "                        \"InstructorProfile\": instructor,\n",
    "                        \"Designation\": instructorsInfo[1],\n",
    "                        \"Email\": \"\",\n",
    "                        \"WebLink\": webLink,\n",
    "                        \"Facebook\": fbLink,\n",
    "                        \"Twitter\": twLink,\n",
    "                        \"Instagram\": instaLink,\n",
    "                        \"Linkedin\": linkeLink,\n",
    "                        \"Youtube\": youtLink,\n",
    "                        \"PhoneNo\": \"\",\n",
    "                        \"Platform\": \"udemy\",\n",
    "                        \"CourseName\": courseName,\n",
    "                        \"CourseLink\": link,\n",
    "                        \"Rating\": rating,\n",
    "                        \"CurrentPrice\": currentPrice,\n",
    "                        \"OriginalPrice\": originalPrice,\n",
    "                        \"Discount\": discount,\n",
    "                        \"Duration\": duration[0]\n",
    "                \n",
    "                    }\n",
    "\n",
    "            q.put(tmpData.copy())\n",
    "            print(tmpData)\n",
    "    except Exception as e:\n",
    "        print(e)\n",
    "        print(link)\n",
    "    finally:       \n",
    "        threadAlive -= 1\n",
    "        count += 1\n",
    "        print(count)\n",
    "        driver.quit()"
   ]
  },
  {
   "cell_type": "code",
   "execution_count": 47,
   "metadata": {},
   "outputs": [],
   "source": [
    "driver = webdriver.Firefox(executable_path='geckodriver.exe')\n",
    "driver.get(\"https://www.udemy.com/course/stock-technical-analysis-with-excel/\")"
   ]
  },
  {
   "cell_type": "code",
   "execution_count": 48,
   "metadata": {
    "scrolled": true
   },
   "outputs": [
    {
     "name": "stdout",
     "output_type": "stream",
     "text": [
      "2\n",
      "\n",
      "4.4 (43 ratings)\n"
     ]
    }
   ],
   "source": [
    "rating = driver.find_elements_by_class_name('rate-count')\n",
    "print(len(rating))\n",
    "for item in rating:\n",
    "    print(item.text)"
   ]
  },
  {
   "cell_type": "code",
   "execution_count": null,
   "metadata": {},
   "outputs": [],
   "source": [
    "\n",
    "/html/body/div[2]/div[3]/div[5]/div/div[2]/div[1]/div/div/div[2]/div[1]/div/div/div[2]\n",
    "/html/body/div[2]/div[3]/div[5]/div/div[2]/div[1]/div/div/div[2]/div[1]/div/div/div[2]/span"
   ]
  },
  {
   "cell_type": "code",
   "execution_count": 54,
   "metadata": {
    "scrolled": false
   },
   "outputs": [
    {
     "name": "stdout",
     "output_type": "stream",
     "text": [
      "4.4\n",
      "{'InstructorName': 'Diego Fernandez', 'InstructorProfile': 'https://www.udemy.com/user/diego-fernandez-2/', 'Designation': 'Exfinsis', 'Email': '', 'WebLink': 'http://www.exfinsis.com/', 'Facebook': '', 'Twitter': '', 'Instagram': '', 'Linkedin': '', 'Youtube': '', 'PhoneNo': '', 'Platform': 'udemy', 'CourseLink': 'https://www.udemy.com/course/stock-technical-analysis-with-excel/', 'CourseName': 'Stock Technical Analysis with Excel', 'Rating': '4.4', 'CurrentPrice': '$18.99', 'OriginalPrice': '$49.99', 'Discount': '62%', 'Duration': '8.5 hours on-demand video'}\n",
      "2\n",
      "Wall time: 18.2 s\n"
     ]
    }
   ],
   "source": [
    "%%time\n",
    "downData(\"https://www.udemy.com/course/stock-technical-analysis-with-excel/\")"
   ]
  },
  {
   "cell_type": "code",
   "execution_count": 16,
   "metadata": {},
   "outputs": [
    {
     "name": "stdout",
     "output_type": "stream",
     "text": [
      "4.34.2\n",
      "\n",
      "4.7\n",
      "3.6\n",
      "4.1\n",
      "4.6\n",
      "Couldn't found price\n",
      "{'InstructorName': 'Stefan Ignatovski, Ph.D.', 'InstructorProfile': 'https://www.udemy.com/user/stefanignatovski/', 'Designation': 'Professor, Investor and Entrepreneur', 'Email': '', 'WebLink': 'http://www.accountingsky.com/', 'Facebook': 'https://www.facebook.com/illutible', 'Twitter': 'https://twitter.com/illutible', 'Instagram': '', 'Linkedin': 'https://linkedin.com/in/ignatovski', 'Youtube': 'https://www.youtube.com/StefanIgnatovski', 'PhoneNo': '', 'Platform': 'udemy', 'CourseName': 'Managerial (Cost) Accounting For Beginners', 'CourseLink': 'https://www.udemy.com/course/managementaccounting/', 'Rating': '4.2', 'CurrentPrice': '$11.39', 'OriginalPrice': '$199.99', 'Discount': '94%', 'Duration': '3.5'}\n",
      "1\n",
      "{'InstructorName': 'Chris Severson', 'InstructorProfile': 'https://www.udemy.com/user/chris-severson/', 'Designation': 'Accounting Professor, Training Manager, and Course Developer', 'Email': '', 'WebLink': '', 'Facebook': '', 'Twitter': '', 'Instagram': '', 'Linkedin': 'https://linkedin.com/https://us.linkedin.com/in/christopher-severson-933a447', 'Youtube': 'https://www.youtube.com/https://www.youtube.com/user/MrAccounting101', 'PhoneNo': '', 'Platform': 'udemy', 'CourseName': 'Cost and Managerial Accounting - Part 1', 'CourseLink': 'https://www.udemy.com/course/cost-and-managerial-accounting-part-1/', 'Rating': '4.7', 'CurrentPrice': '$11.99', 'OriginalPrice': '$19.99', 'Discount': '40%', 'Duration': '4.5'}\n",
      "2\n",
      "{'InstructorName': 'Robert (Bob) Steele', 'InstructorProfile': 'https://www.udemy.com/user/c91d6786-95f3-48d8-ab94-cc92431d2aa4/', 'Designation': 'CPA, CGMA, M.S. Tax, CPI', 'Email': '', 'WebLink': 'http://accountinginstruction.info/', 'Facebook': 'https://www.facebook.com/AccountingInstructionhelp/', 'Twitter': 'https://twitter.com/AccountingInst', 'Instagram': '', 'Linkedin': 'https://linkedin.com/in/robert-bob-steele-cpa-cgma-m-s-tax-76422017', 'Youtube': '', 'PhoneNo': '', 'Platform': 'udemy', 'CourseName': 'Process Costing System-Cost Accounting-Managerial Accounting', 'CourseLink': 'https://www.udemy.com/course/process-costing-system-cost-accounting-managerial-accounting/', 'Rating': '3.6', 'CurrentPrice': '$10.99', 'OriginalPrice': '$199.99', 'Discount': '94%', 'Duration': '8'}\n",
      "3\n",
      "{'InstructorName': 'Raja Natarajan, B.Com., PGDBA, FCA', 'InstructorProfile': 'https://www.udemy.com/user/caraja/', 'Designation': 'Chartered Accountant', 'Email': '', 'WebLink': 'http://carajaclasses.com/', 'Facebook': 'https://www.facebook.com/ca.raja.3', 'Twitter': 'https://twitter.com/nrajca', 'Instagram': '', 'Linkedin': 'https://linkedin.com/in/ca-n-raja-7b551543', 'Youtube': 'https://www.youtube.com/user/poojaraj2009', 'PhoneNo': '', 'Platform': 'udemy', 'CourseName': 'Cost Accounting and Financial Management - A Complete Study', 'CourseLink': 'https://www.udemy.com/course/cost-accounting-and-financial-management-a-complete-study/', 'Rating': '4.3', 'CurrentPrice': '$12.99', 'OriginalPrice': '$199.99', 'Discount': '94%', 'Duration': '45'}\n",
      "4\n",
      "{'InstructorName': 'Raja Natarajan, B.Com., PGDBA, FCA', 'InstructorProfile': 'https://www.udemy.com/user/caraja/', 'Designation': 'Chartered Accountant', 'Email': '', 'WebLink': 'http://carajaclasses.com/', 'Facebook': 'https://www.facebook.com/ca.raja.3', 'Twitter': 'https://twitter.com/nrajca', 'Instagram': '', 'Linkedin': 'https://linkedin.com/in/ca-n-raja-7b551543', 'Youtube': 'https://www.youtube.com/user/poojaraj2009', 'PhoneNo': '', 'Platform': 'udemy', 'CourseName': 'Cost Accounting - A Comprehensive Study for CA/CMA/CS /ACCA/', 'CourseLink': 'https://www.udemy.com/course/cost-accounting-a-comprehensive-study/', 'Rating': '4.1', 'CurrentPrice': '$19.99', 'OriginalPrice': '', 'Discount': '', 'Duration': '35.5'}\n",
      "5\n",
      "{'InstructorName': 'Norm Nemrow', 'InstructorProfile': 'https://www.udemy.com/user/cameronearl/', 'Designation': 'World Famous Course from the #1 Accounting University', 'Email': '', 'WebLink': '', 'Facebook': '', 'Twitter': '', 'Instagram': '', 'Linkedin': '', 'Youtube': '', 'PhoneNo': '', 'Platform': 'udemy', 'CourseName': 'Managerial Accounting (Advanced): Course 4 of 5', 'CourseLink': 'https://www.udemy.com/course/expanded-managerial-accounting/', 'Rating': '4.6', 'CurrentPrice': '$10.99', 'OriginalPrice': '$199.99', 'Discount': '94%', 'Duration': '10.5'}\n",
      "6\n",
      "3.6\n",
      "4.7\n",
      "4.3\n",
      "4.2\n",
      "4.8\n",
      "Couldn't found price\n",
      "Couldn't found duration\n",
      "Message: Unable to locate element: .instructor\n",
      "\n",
      "https://business.udemy.com/request-demo/?ref=right-rail&locale=en_US\n",
      "7\n",
      "{'InstructorName': 'The Numbers Guys', 'InstructorProfile': 'https://www.udemy.com/user/the-numbers-guys/', 'Designation': 'Accounting | Finance | For the Real World', 'Email': '', 'WebLink': 'https://www.the-numbers-guys.com/', 'Facebook': '', 'Twitter': '', 'Instagram': '', 'Linkedin': 'https://linkedin.com/in/ben-wann/', 'Youtube': 'https://www.youtube.com/channel/UCAcYwylNFH3iz98JIH94n7AYwylNFH3iz98JIH94n7A', 'PhoneNo': '', 'Platform': 'udemy', 'CourseName': 'How to Control Your Costs and Increase Profitability', 'CourseLink': 'https://www.udemy.com/course/how-to-control-your-costs-and-increase-profitability/', 'Rating': '4.8', 'CurrentPrice': '$18.99', 'OriginalPrice': '$24.99', 'Discount': '24%', 'Duration': '2'}\n",
      "8\n",
      "{'InstructorName': 'Viktoria Nedelcheva', 'InstructorProfile': 'https://www.udemy.com/user/viktoria-nedelcheva-2/', 'Designation': 'Accounting instructor', 'Email': '', 'WebLink': 'https://payhip.com/AccountingIsaPieceOfCake', 'Facebook': 'https://www.facebook.com/accounting.is.a.piece.of.cake/', 'Twitter': 'https://twitter.com/KolevaMail', 'Instagram': '', 'Linkedin': 'https://linkedin.com/in/viktoria-nedelcheva-724890101/', 'Youtube': 'https://www.youtube.com/channel/UCwghPLVfj7GkjJaddpFBCMw', 'PhoneNo': '', 'Platform': 'udemy', 'CourseName': 'First Steps Into Management Accounting', 'CourseLink': 'https://www.udemy.com/course/first-steps-into-management-accounting/', 'Rating': '4.2', 'CurrentPrice': '$10.99', 'OriginalPrice': '$19.99', 'Discount': '45%', 'Duration': '1'}\n",
      "9\n",
      "{'InstructorName': 'Chris Benjamin, MBA & CFO', 'InstructorProfile': 'https://www.udemy.com/user/chrisbenjamin/', 'Designation': 'Instructor & Management Consultant', 'Email': '', 'WebLink': '', 'Facebook': '', 'Twitter': '', 'Instagram': '', 'Linkedin': '', 'Youtube': '', 'PhoneNo': '', 'Platform': 'udemy', 'CourseName': 'The 2020 Complete Masterclass On Managerial Cost Accounting', 'CourseLink': 'https://www.udemy.com/course/accounting-101-learn-cost-accounting-from-a-cfo/', 'Rating': '3.6', 'CurrentPrice': '$10.99', 'OriginalPrice': '$49.99', 'Discount': '78%', 'Duration': '2'}\n",
      "10\n",
      "{'InstructorName': 'Professor Francisco Vigario', 'InstructorProfile': 'https://www.udemy.com/user/francisco-vigario-2/', 'Designation': 'Professor in Managerial Accounting and Finance', 'Email': '', 'WebLink': '', 'Facebook': 'https://www.facebook.com/frisco.vigario', 'Twitter': '', 'Instagram': '', 'Linkedin': 'https://linkedin.com/in/frisco-vigario', 'Youtube': 'https://www.youtube.com/Vigario', 'PhoneNo': '', 'Platform': 'udemy', 'CourseName': 'Variable, Absorption and Activity Based Costing', 'CourseLink': 'https://www.udemy.com/course/variable-absorption-and-activity-based-costing/', 'Rating': '4.3', 'CurrentPrice': '$10.99', 'OriginalPrice': '$19.99', 'Discount': '45%', 'Duration': '3.5'}\n",
      "11\n",
      "{'InstructorName': 'Stefan Ignatovski, Ph.D.', 'InstructorProfile': 'https://www.udemy.com/user/stefanignatovski/', 'Designation': 'Professor, Investor and Entrepreneur', 'Email': '', 'WebLink': 'http://www.accountingsky.com/', 'Facebook': 'https://www.facebook.com/illutible', 'Twitter': 'https://twitter.com/illutible', 'Instagram': '', 'Linkedin': 'https://linkedin.com/in/ignatovski', 'Youtube': 'https://www.youtube.com/StefanIgnatovski', 'PhoneNo': '', 'Platform': 'udemy', 'CourseName': 'Introduction to Managerial Accounting', 'CourseLink': 'https://www.udemy.com/course/introduction-to-cost-accounting/', 'Rating': '4.7', 'CurrentPrice': '$11.99', 'OriginalPrice': '$109.99', 'Discount': '89%', 'Duration': '38'}\n",
      "12\n",
      "4.3\n",
      "3.8\n",
      "4.2\n",
      "3.7\n",
      "4.6\n",
      "3.8\n",
      "{'InstructorName': 'John Mclellan', 'InstructorProfile': 'https://www.udemy.com/user/johnmclellan3/', 'Designation': 'Accounting Professor', 'Email': '', 'WebLink': '', 'Facebook': '', 'Twitter': 'https://twitter.com/Dr%20John@the_acct_coach', 'Instagram': '', 'Linkedin': '', 'Youtube': 'https://www.youtube.com/channel/UCznMDc83U9SG9j8T85GrIGw', 'PhoneNo': '', 'Platform': 'udemy', 'CourseName': 'CMA Management Tools-Understanding Job costs & ABC systems', 'CourseLink': 'https://www.udemy.com/course/dr-johns-understanding-cost-accounting-job-costs-abc/', 'Rating': '4.3', 'CurrentPrice': '$11.99', 'OriginalPrice': '$19.99', 'Discount': '40%', 'Duration': '1.5'}\n",
      "13\n"
     ]
    },
    {
     "name": "stdout",
     "output_type": "stream",
     "text": [
      "{'InstructorName': 'Raja Natarajan, B.Com., PGDBA, FCA', 'InstructorProfile': 'https://www.udemy.com/user/caraja/', 'Designation': 'Chartered Accountant', 'Email': '', 'WebLink': 'http://carajaclasses.com/', 'Facebook': 'https://www.facebook.com/ca.raja.3', 'Twitter': 'https://twitter.com/nrajca', 'Instagram': '', 'Linkedin': 'https://linkedin.com/in/ca-n-raja-7b551543', 'Youtube': 'https://www.youtube.com/user/poojaraj2009', 'PhoneNo': '', 'Platform': 'udemy', 'CourseName': 'Problems & Solutions in Cost Accounting', 'CourseLink': 'https://www.udemy.com/course/problems-solutions-in-cost-accounting/', 'Rating': '3.8', 'CurrentPrice': '$11.99', 'OriginalPrice': '$39.99', 'Discount': '70%', 'Duration': '3'}\n",
      "14\n",
      "{'InstructorName': 'Syed Muhammad Ali Shah', 'InstructorProfile': 'https://www.udemy.com/user/syed-ali-149/', 'Designation': 'Teaching Accounting and Finance for Over Fifteen Years', 'Email': '', 'WebLink': '', 'Facebook': '', 'Twitter': '', 'Instagram': '', 'Linkedin': '', 'Youtube': '', 'PhoneNo': '', 'Platform': 'udemy', 'CourseName': 'Cost Accounting', 'CourseLink': 'https://www.udemy.com/course/cost-accounting-g/', 'Rating': '3.7', 'CurrentPrice': '$19.99', 'OriginalPrice': '$29.99', 'Discount': '33%', 'Duration': '11'}\n",
      "15\n",
      "{'InstructorName': 'Stefan Ignatovski, Ph.D.', 'InstructorProfile': 'https://www.udemy.com/user/stefanignatovski/', 'Designation': 'Professor, Investor and Entrepreneur', 'Email': '', 'WebLink': 'http://www.accountingsky.com/', 'Facebook': 'https://www.facebook.com/illutible', 'Twitter': 'https://twitter.com/illutible', 'Instagram': '', 'Linkedin': 'https://linkedin.com/in/ignatovski', 'Youtube': 'https://www.youtube.com/StefanIgnatovski', 'PhoneNo': '', 'Platform': 'udemy', 'CourseName': 'Managerial (Cost) Accounting For Beginners', 'CourseLink': 'https://www.udemy.com/course/managementaccounting/', 'Rating': '4.2', 'CurrentPrice': '$18.99', 'OriginalPrice': '$199.99', 'Discount': '90%', 'Duration': '3.5'}\n",
      "16\n",
      "{'InstructorName': 'Hattem AlHajery', 'InstructorProfile': 'https://www.udemy.com/user/hattem-alhajery/', 'Designation': 'Freelance Finance Professional', 'Email': '', 'WebLink': 'https://hattemalhajery.wordpress.com/', 'Facebook': 'https://www.facebook.com/HattemAlhajery', 'Twitter': '', 'Instagram': '', 'Linkedin': 'https://linkedin.com/pub/11/736/44', 'Youtube': 'https://www.youtube.com/channel/UC8wgotjQEMXn-_mO1qKb3-Q', 'PhoneNo': '', 'Platform': 'udemy', 'CourseName': 'Break-Even Analysis for Business Decision Making', 'CourseLink': 'https://www.udemy.com/course/break-even-analysis-for-business-decision-making/', 'Rating': '3.8', 'CurrentPrice': '$11.39', 'OriginalPrice': '$59.99', 'Discount': '81%', 'Duration': '42'}\n",
      "17\n",
      "{'InstructorName': 'Norm Nemrow', 'InstructorProfile': 'https://www.udemy.com/user/cameronearl/', 'Designation': 'World Famous Course from the #1 Accounting University', 'Email': '', 'WebLink': '', 'Facebook': '', 'Twitter': '', 'Instagram': '', 'Linkedin': '', 'Youtube': '', 'PhoneNo': '', 'Platform': 'udemy', 'CourseName': 'Managerial Accounting (Advanced): Course 4 of 5', 'CourseLink': 'https://www.udemy.com/course/expanded-managerial-accounting/', 'Rating': '4.6', 'CurrentPrice': '$10.99', 'OriginalPrice': '$199.99', 'Discount': '94%', 'Duration': '10.5'}\n",
      "18\n",
      "4.3\n",
      "4.1\n",
      "{'InstructorName': 'Raja Natarajan, B.Com., PGDBA, FCA', 'InstructorProfile': 'https://www.udemy.com/user/caraja/', 'Designation': 'Chartered Accountant', 'Email': '', 'WebLink': 'http://carajaclasses.com/', 'Facebook': 'https://www.facebook.com/ca.raja.3', 'Twitter': 'https://twitter.com/nrajca', 'Instagram': '', 'Linkedin': 'https://linkedin.com/in/ca-n-raja-7b551543', 'Youtube': 'https://www.youtube.com/user/poojaraj2009', 'PhoneNo': '', 'Platform': 'udemy', 'CourseName': 'Cost Accounting and Financial Management - A Complete Study', 'CourseLink': 'https://www.udemy.com/course/cost-accounting-and-financial-management-a-complete-study/', 'Rating': '4.3', 'CurrentPrice': '$20.99', 'OriginalPrice': '$199.99', 'Discount': '90%', 'Duration': '45'}\n",
      "19\n",
      "3.6\n",
      "4.7\n",
      "4.8\n",
      "{'InstructorName': 'Raja Natarajan, B.Com., PGDBA, FCA', 'InstructorProfile': 'https://www.udemy.com/user/caraja/', 'Designation': 'Chartered Accountant', 'Email': '', 'WebLink': 'http://carajaclasses.com/', 'Facebook': 'https://www.facebook.com/ca.raja.3', 'Twitter': 'https://twitter.com/nrajca', 'Instagram': '', 'Linkedin': 'https://linkedin.com/in/ca-n-raja-7b551543', 'Youtube': 'https://www.youtube.com/user/poojaraj2009', 'PhoneNo': '', 'Platform': 'udemy', 'CourseName': 'Cost Accounting - A Comprehensive Study for CA/CMA/CS /ACCA/', 'CourseLink': 'https://www.udemy.com/course/cost-accounting-a-comprehensive-study/', 'Rating': '4.1', 'CurrentPrice': '$11.99', 'OriginalPrice': '$19.99', 'Discount': '40%', 'Duration': '35.5'}\n",
      "20\n",
      "Couldn't found price\n",
      "Couldn't found duration\n",
      "Message: Unable to locate element: .instructor\n",
      "\n",
      "https://business.udemy.com/request-demo/?ref=right-rail&locale=en_US\n",
      "21\n",
      "{'InstructorName': 'The Numbers Guys', 'InstructorProfile': 'https://www.udemy.com/user/the-numbers-guys/', 'Designation': 'Accounting | Finance | For the Real World', 'Email': '', 'WebLink': 'https://www.the-numbers-guys.com/', 'Facebook': '', 'Twitter': '', 'Instagram': '', 'Linkedin': 'https://linkedin.com/in/ben-wann/', 'Youtube': 'https://www.youtube.com/channel/UCAcYwylNFH3iz98JIH94n7AYwylNFH3iz98JIH94n7A', 'PhoneNo': '', 'Platform': 'udemy', 'CourseName': 'How to Control Your Costs and Increase Profitability', 'CourseLink': 'https://www.udemy.com/course/how-to-control-your-costs-and-increase-profitability/', 'Rating': '4.8', 'CurrentPrice': '$11.39', 'OriginalPrice': '$24.99', 'Discount': '54%', 'Duration': '2'}\n",
      "22\n",
      "{'InstructorName': 'Robert (Bob) Steele', 'InstructorProfile': 'https://www.udemy.com/user/c91d6786-95f3-48d8-ab94-cc92431d2aa4/', 'Designation': 'CPA, CGMA, M.S. Tax, CPI', 'Email': '', 'WebLink': 'http://accountinginstruction.info/', 'Facebook': 'https://www.facebook.com/AccountingInstructionhelp/', 'Twitter': 'https://twitter.com/AccountingInst', 'Instagram': '', 'Linkedin': 'https://linkedin.com/in/robert-bob-steele-cpa-cgma-m-s-tax-76422017', 'Youtube': '', 'PhoneNo': '', 'Platform': 'udemy', 'CourseName': 'Process Costing System-Cost Accounting-Managerial Accounting', 'CourseLink': 'https://www.udemy.com/course/process-costing-system-cost-accounting-managerial-accounting/', 'Rating': '3.6', 'CurrentPrice': '$11.99', 'OriginalPrice': '$199.99', 'Discount': '94%', 'Duration': '8'}\n",
      "23\n",
      "{'InstructorName': 'Chris Severson', 'InstructorProfile': 'https://www.udemy.com/user/chris-severson/', 'Designation': 'Accounting Professor, Training Manager, and Course Developer', 'Email': '', 'WebLink': '', 'Facebook': '', 'Twitter': '', 'Instagram': '', 'Linkedin': 'https://linkedin.com/https://us.linkedin.com/in/christopher-severson-933a447', 'Youtube': 'https://www.youtube.com/https://www.youtube.com/user/MrAccounting101', 'PhoneNo': '', 'Platform': 'udemy', 'CourseName': 'Cost and Managerial Accounting - Part 1', 'CourseLink': 'https://www.udemy.com/course/cost-and-managerial-accounting-part-1/', 'Rating': '4.7', 'CurrentPrice': '$11.99', 'OriginalPrice': '$19.99', 'Discount': '40%', 'Duration': '4.5'}\n",
      "24\n",
      "4.7\n",
      "3.6\n",
      "{'InstructorName': 'Stefan Ignatovski, Ph.D.', 'InstructorProfile': 'https://www.udemy.com/user/stefanignatovski/', 'Designation': 'Professor, Investor and Entrepreneur', 'Email': '', 'WebLink': 'http://www.accountingsky.com/', 'Facebook': 'https://www.facebook.com/illutible', 'Twitter': 'https://twitter.com/illutible', 'Instagram': '', 'Linkedin': 'https://linkedin.com/in/ignatovski', 'Youtube': 'https://www.youtube.com/StefanIgnatovski', 'PhoneNo': '', 'Platform': 'udemy', 'CourseName': 'Introduction to Managerial Accounting', 'CourseLink': 'https://www.udemy.com/course/introduction-to-cost-accounting/', 'Rating': '4.7', 'CurrentPrice': '$12.99', 'OriginalPrice': '$109.99', 'Discount': '88%', 'Duration': '38'}\n",
      "25\n",
      "4.3\n",
      "4.3\n",
      "{'InstructorName': 'Chris Benjamin, MBA & CFO', 'InstructorProfile': 'https://www.udemy.com/user/chrisbenjamin/', 'Designation': 'Instructor & Management Consultant', 'Email': '', 'WebLink': '', 'Facebook': '', 'Twitter': '', 'Instagram': '', 'Linkedin': '', 'Youtube': '', 'PhoneNo': '', 'Platform': 'udemy', 'CourseName': 'The 2020 Complete Masterclass On Managerial Cost Accounting', 'CourseLink': 'https://www.udemy.com/course/accounting-101-learn-cost-accounting-from-a-cfo/', 'Rating': '3.6', 'CurrentPrice': '$11.99', 'OriginalPrice': '$49.99', 'Discount': '76%', 'Duration': '2'}\n",
      "26\n",
      "4.2\n"
     ]
    },
    {
     "name": "stdout",
     "output_type": "stream",
     "text": [
      "3.8\n",
      "{'InstructorName': 'Professor Francisco Vigario', 'InstructorProfile': 'https://www.udemy.com/user/francisco-vigario-2/', 'Designation': 'Professor in Managerial Accounting and Finance', 'Email': '', 'WebLink': '', 'Facebook': 'https://www.facebook.com/frisco.vigario', 'Twitter': '', 'Instagram': '', 'Linkedin': 'https://linkedin.com/in/frisco-vigario', 'Youtube': 'https://www.youtube.com/Vigario', 'PhoneNo': '', 'Platform': 'udemy', 'CourseName': 'Variable, Absorption and Activity Based Costing', 'CourseLink': 'https://www.udemy.com/course/variable-absorption-and-activity-based-costing/', 'Rating': '4.3', 'CurrentPrice': '$10.99', 'OriginalPrice': '$19.99', 'Discount': '45%', 'Duration': '3.5'}\n",
      "27\n",
      "[{'InstructorName': 'Stefan Ignatovski, Ph.D.', 'InstructorProfile': 'https://www.udemy.com/user/stefanignatovski/', 'Designation': 'Professor, Investor and Entrepreneur', 'Email': '', 'WebLink': 'http://www.accountingsky.com/', 'Facebook': 'https://www.facebook.com/illutible', 'Twitter': 'https://twitter.com/illutible', 'Instagram': '', 'Linkedin': 'https://linkedin.com/in/ignatovski', 'Youtube': 'https://www.youtube.com/StefanIgnatovski', 'PhoneNo': '', 'Platform': 'udemy', 'CourseName': 'Managerial (Cost) Accounting For Beginners', 'CourseLink': 'https://www.udemy.com/course/managementaccounting/', 'Rating': '4.2', 'CurrentPrice': '$11.39', 'OriginalPrice': '$199.99', 'Discount': '94%', 'Duration': '3.5'}, {'InstructorName': 'Chris Severson', 'InstructorProfile': 'https://www.udemy.com/user/chris-severson/', 'Designation': 'Accounting Professor, Training Manager, and Course Developer', 'Email': '', 'WebLink': '', 'Facebook': '', 'Twitter': '', 'Instagram': '', 'Linkedin': 'https://linkedin.com/https://us.linkedin.com/in/christopher-severson-933a447', 'Youtube': 'https://www.youtube.com/https://www.youtube.com/user/MrAccounting101', 'PhoneNo': '', 'Platform': 'udemy', 'CourseName': 'Cost and Managerial Accounting - Part 1', 'CourseLink': 'https://www.udemy.com/course/cost-and-managerial-accounting-part-1/', 'Rating': '4.7', 'CurrentPrice': '$11.99', 'OriginalPrice': '$19.99', 'Discount': '40%', 'Duration': '4.5'}, {'InstructorName': 'Robert (Bob) Steele', 'InstructorProfile': 'https://www.udemy.com/user/c91d6786-95f3-48d8-ab94-cc92431d2aa4/', 'Designation': 'CPA, CGMA, M.S. Tax, CPI', 'Email': '', 'WebLink': 'http://accountinginstruction.info/', 'Facebook': 'https://www.facebook.com/AccountingInstructionhelp/', 'Twitter': 'https://twitter.com/AccountingInst', 'Instagram': '', 'Linkedin': 'https://linkedin.com/in/robert-bob-steele-cpa-cgma-m-s-tax-76422017', 'Youtube': '', 'PhoneNo': '', 'Platform': 'udemy', 'CourseName': 'Process Costing System-Cost Accounting-Managerial Accounting', 'CourseLink': 'https://www.udemy.com/course/process-costing-system-cost-accounting-managerial-accounting/', 'Rating': '3.6', 'CurrentPrice': '$10.99', 'OriginalPrice': '$199.99', 'Discount': '94%', 'Duration': '8'}, {'InstructorName': 'Raja Natarajan, B.Com., PGDBA, FCA', 'InstructorProfile': 'https://www.udemy.com/user/caraja/', 'Designation': 'Chartered Accountant', 'Email': '', 'WebLink': 'http://carajaclasses.com/', 'Facebook': 'https://www.facebook.com/ca.raja.3', 'Twitter': 'https://twitter.com/nrajca', 'Instagram': '', 'Linkedin': 'https://linkedin.com/in/ca-n-raja-7b551543', 'Youtube': 'https://www.youtube.com/user/poojaraj2009', 'PhoneNo': '', 'Platform': 'udemy', 'CourseName': 'Cost Accounting and Financial Management - A Complete Study', 'CourseLink': 'https://www.udemy.com/course/cost-accounting-and-financial-management-a-complete-study/', 'Rating': '4.3', 'CurrentPrice': '$12.99', 'OriginalPrice': '$199.99', 'Discount': '94%', 'Duration': '45'}, {'InstructorName': 'Raja Natarajan, B.Com., PGDBA, FCA', 'InstructorProfile': 'https://www.udemy.com/user/caraja/', 'Designation': 'Chartered Accountant', 'Email': '', 'WebLink': 'http://carajaclasses.com/', 'Facebook': 'https://www.facebook.com/ca.raja.3', 'Twitter': 'https://twitter.com/nrajca', 'Instagram': '', 'Linkedin': 'https://linkedin.com/in/ca-n-raja-7b551543', 'Youtube': 'https://www.youtube.com/user/poojaraj2009', 'PhoneNo': '', 'Platform': 'udemy', 'CourseName': 'Cost Accounting - A Comprehensive Study for CA/CMA/CS /ACCA/', 'CourseLink': 'https://www.udemy.com/course/cost-accounting-a-comprehensive-study/', 'Rating': '4.1', 'CurrentPrice': '$19.99', 'OriginalPrice': '', 'Discount': '', 'Duration': '35.5'}, {'InstructorName': 'Norm Nemrow', 'InstructorProfile': 'https://www.udemy.com/user/cameronearl/', 'Designation': 'World Famous Course from the #1 Accounting University', 'Email': '', 'WebLink': '', 'Facebook': '', 'Twitter': '', 'Instagram': '', 'Linkedin': '', 'Youtube': '', 'PhoneNo': '', 'Platform': 'udemy', 'CourseName': 'Managerial Accounting (Advanced): Course 4 of 5', 'CourseLink': 'https://www.udemy.com/course/expanded-managerial-accounting/', 'Rating': '4.6', 'CurrentPrice': '$10.99', 'OriginalPrice': '$199.99', 'Discount': '94%', 'Duration': '10.5'}, {'InstructorName': 'The Numbers Guys', 'InstructorProfile': 'https://www.udemy.com/user/the-numbers-guys/', 'Designation': 'Accounting | Finance | For the Real World', 'Email': '', 'WebLink': 'https://www.the-numbers-guys.com/', 'Facebook': '', 'Twitter': '', 'Instagram': '', 'Linkedin': 'https://linkedin.com/in/ben-wann/', 'Youtube': 'https://www.youtube.com/channel/UCAcYwylNFH3iz98JIH94n7AYwylNFH3iz98JIH94n7A', 'PhoneNo': '', 'Platform': 'udemy', 'CourseName': 'How to Control Your Costs and Increase Profitability', 'CourseLink': 'https://www.udemy.com/course/how-to-control-your-costs-and-increase-profitability/', 'Rating': '4.8', 'CurrentPrice': '$18.99', 'OriginalPrice': '$24.99', 'Discount': '24%', 'Duration': '2'}, {'InstructorName': 'Viktoria Nedelcheva', 'InstructorProfile': 'https://www.udemy.com/user/viktoria-nedelcheva-2/', 'Designation': 'Accounting instructor', 'Email': '', 'WebLink': 'https://payhip.com/AccountingIsaPieceOfCake', 'Facebook': 'https://www.facebook.com/accounting.is.a.piece.of.cake/', 'Twitter': 'https://twitter.com/KolevaMail', 'Instagram': '', 'Linkedin': 'https://linkedin.com/in/viktoria-nedelcheva-724890101/', 'Youtube': 'https://www.youtube.com/channel/UCwghPLVfj7GkjJaddpFBCMw', 'PhoneNo': '', 'Platform': 'udemy', 'CourseName': 'First Steps Into Management Accounting', 'CourseLink': 'https://www.udemy.com/course/first-steps-into-management-accounting/', 'Rating': '4.2', 'CurrentPrice': '$10.99', 'OriginalPrice': '$19.99', 'Discount': '45%', 'Duration': '1'}, {'InstructorName': 'Chris Benjamin, MBA & CFO', 'InstructorProfile': 'https://www.udemy.com/user/chrisbenjamin/', 'Designation': 'Instructor & Management Consultant', 'Email': '', 'WebLink': '', 'Facebook': '', 'Twitter': '', 'Instagram': '', 'Linkedin': '', 'Youtube': '', 'PhoneNo': '', 'Platform': 'udemy', 'CourseName': 'The 2020 Complete Masterclass On Managerial Cost Accounting', 'CourseLink': 'https://www.udemy.com/course/accounting-101-learn-cost-accounting-from-a-cfo/', 'Rating': '3.6', 'CurrentPrice': '$10.99', 'OriginalPrice': '$49.99', 'Discount': '78%', 'Duration': '2'}, {'InstructorName': 'Professor Francisco Vigario', 'InstructorProfile': 'https://www.udemy.com/user/francisco-vigario-2/', 'Designation': 'Professor in Managerial Accounting and Finance', 'Email': '', 'WebLink': '', 'Facebook': 'https://www.facebook.com/frisco.vigario', 'Twitter': '', 'Instagram': '', 'Linkedin': 'https://linkedin.com/in/frisco-vigario', 'Youtube': 'https://www.youtube.com/Vigario', 'PhoneNo': '', 'Platform': 'udemy', 'CourseName': 'Variable, Absorption and Activity Based Costing', 'CourseLink': 'https://www.udemy.com/course/variable-absorption-and-activity-based-costing/', 'Rating': '4.3', 'CurrentPrice': '$10.99', 'OriginalPrice': '$19.99', 'Discount': '45%', 'Duration': '3.5'}, {'InstructorName': 'Stefan Ignatovski, Ph.D.', 'InstructorProfile': 'https://www.udemy.com/user/stefanignatovski/', 'Designation': 'Professor, Investor and Entrepreneur', 'Email': '', 'WebLink': 'http://www.accountingsky.com/', 'Facebook': 'https://www.facebook.com/illutible', 'Twitter': 'https://twitter.com/illutible', 'Instagram': '', 'Linkedin': 'https://linkedin.com/in/ignatovski', 'Youtube': 'https://www.youtube.com/StefanIgnatovski', 'PhoneNo': '', 'Platform': 'udemy', 'CourseName': 'Introduction to Managerial Accounting', 'CourseLink': 'https://www.udemy.com/course/introduction-to-cost-accounting/', 'Rating': '4.7', 'CurrentPrice': '$11.99', 'OriginalPrice': '$109.99', 'Discount': '89%', 'Duration': '38'}, {'InstructorName': 'John Mclellan', 'InstructorProfile': 'https://www.udemy.com/user/johnmclellan3/', 'Designation': 'Accounting Professor', 'Email': '', 'WebLink': '', 'Facebook': '', 'Twitter': 'https://twitter.com/Dr%20John@the_acct_coach', 'Instagram': '', 'Linkedin': '', 'Youtube': 'https://www.youtube.com/channel/UCznMDc83U9SG9j8T85GrIGw', 'PhoneNo': '', 'Platform': 'udemy', 'CourseName': 'CMA Management Tools-Understanding Job costs & ABC systems', 'CourseLink': 'https://www.udemy.com/course/dr-johns-understanding-cost-accounting-job-costs-abc/', 'Rating': '4.3', 'CurrentPrice': '$11.99', 'OriginalPrice': '$19.99', 'Discount': '40%', 'Duration': '1.5'}, {'InstructorName': 'Raja Natarajan, B.Com., PGDBA, FCA', 'InstructorProfile': 'https://www.udemy.com/user/caraja/', 'Designation': 'Chartered Accountant', 'Email': '', 'WebLink': 'http://carajaclasses.com/', 'Facebook': 'https://www.facebook.com/ca.raja.3', 'Twitter': 'https://twitter.com/nrajca', 'Instagram': '', 'Linkedin': 'https://linkedin.com/in/ca-n-raja-7b551543', 'Youtube': 'https://www.youtube.com/user/poojaraj2009', 'PhoneNo': '', 'Platform': 'udemy', 'CourseName': 'Problems & Solutions in Cost Accounting', 'CourseLink': 'https://www.udemy.com/course/problems-solutions-in-cost-accounting/', 'Rating': '3.8', 'CurrentPrice': '$11.99', 'OriginalPrice': '$39.99', 'Discount': '70%', 'Duration': '3'}, {'InstructorName': 'Syed Muhammad Ali Shah', 'InstructorProfile': 'https://www.udemy.com/user/syed-ali-149/', 'Designation': 'Teaching Accounting and Finance for Over Fifteen Years', 'Email': '', 'WebLink': '', 'Facebook': '', 'Twitter': '', 'Instagram': '', 'Linkedin': '', 'Youtube': '', 'PhoneNo': '', 'Platform': 'udemy', 'CourseName': 'Cost Accounting', 'CourseLink': 'https://www.udemy.com/course/cost-accounting-g/', 'Rating': '3.7', 'CurrentPrice': '$19.99', 'OriginalPrice': '$29.99', 'Discount': '33%', 'Duration': '11'}, {'InstructorName': 'Stefan Ignatovski, Ph.D.', 'InstructorProfile': 'https://www.udemy.com/user/stefanignatovski/', 'Designation': 'Professor, Investor and Entrepreneur', 'Email': '', 'WebLink': 'http://www.accountingsky.com/', 'Facebook': 'https://www.facebook.com/illutible', 'Twitter': 'https://twitter.com/illutible', 'Instagram': '', 'Linkedin': 'https://linkedin.com/in/ignatovski', 'Youtube': 'https://www.youtube.com/StefanIgnatovski', 'PhoneNo': '', 'Platform': 'udemy', 'CourseName': 'Managerial (Cost) Accounting For Beginners', 'CourseLink': 'https://www.udemy.com/course/managementaccounting/', 'Rating': '4.2', 'CurrentPrice': '$18.99', 'OriginalPrice': '$199.99', 'Discount': '90%', 'Duration': '3.5'}, {'InstructorName': 'Hattem AlHajery', 'InstructorProfile': 'https://www.udemy.com/user/hattem-alhajery/', 'Designation': 'Freelance Finance Professional', 'Email': '', 'WebLink': 'https://hattemalhajery.wordpress.com/', 'Facebook': 'https://www.facebook.com/HattemAlhajery', 'Twitter': '', 'Instagram': '', 'Linkedin': 'https://linkedin.com/pub/11/736/44', 'Youtube': 'https://www.youtube.com/channel/UC8wgotjQEMXn-_mO1qKb3-Q', 'PhoneNo': '', 'Platform': 'udemy', 'CourseName': 'Break-Even Analysis for Business Decision Making', 'CourseLink': 'https://www.udemy.com/course/break-even-analysis-for-business-decision-making/', 'Rating': '3.8', 'CurrentPrice': '$11.39', 'OriginalPrice': '$59.99', 'Discount': '81%', 'Duration': '42'}, {'InstructorName': 'Norm Nemrow', 'InstructorProfile': 'https://www.udemy.com/user/cameronearl/', 'Designation': 'World Famous Course from the #1 Accounting University', 'Email': '', 'WebLink': '', 'Facebook': '', 'Twitter': '', 'Instagram': '', 'Linkedin': '', 'Youtube': '', 'PhoneNo': '', 'Platform': 'udemy', 'CourseName': 'Managerial Accounting (Advanced): Course 4 of 5', 'CourseLink': 'https://www.udemy.com/course/expanded-managerial-accounting/', 'Rating': '4.6', 'CurrentPrice': '$10.99', 'OriginalPrice': '$199.99', 'Discount': '94%', 'Duration': '10.5'}, {'InstructorName': 'Raja Natarajan, B.Com., PGDBA, FCA', 'InstructorProfile': 'https://www.udemy.com/user/caraja/', 'Designation': 'Chartered Accountant', 'Email': '', 'WebLink': 'http://carajaclasses.com/', 'Facebook': 'https://www.facebook.com/ca.raja.3', 'Twitter': 'https://twitter.com/nrajca', 'Instagram': '', 'Linkedin': 'https://linkedin.com/in/ca-n-raja-7b551543', 'Youtube': 'https://www.youtube.com/user/poojaraj2009', 'PhoneNo': '', 'Platform': 'udemy', 'CourseName': 'Cost Accounting and Financial Management - A Complete Study', 'CourseLink': 'https://www.udemy.com/course/cost-accounting-and-financial-management-a-complete-study/', 'Rating': '4.3', 'CurrentPrice': '$20.99', 'OriginalPrice': '$199.99', 'Discount': '90%', 'Duration': '45'}, {'InstructorName': 'Raja Natarajan, B.Com., PGDBA, FCA', 'InstructorProfile': 'https://www.udemy.com/user/caraja/', 'Designation': 'Chartered Accountant', 'Email': '', 'WebLink': 'http://carajaclasses.com/', 'Facebook': 'https://www.facebook.com/ca.raja.3', 'Twitter': 'https://twitter.com/nrajca', 'Instagram': '', 'Linkedin': 'https://linkedin.com/in/ca-n-raja-7b551543', 'Youtube': 'https://www.youtube.com/user/poojaraj2009', 'PhoneNo': '', 'Platform': 'udemy', 'CourseName': 'Cost Accounting - A Comprehensive Study for CA/CMA/CS /ACCA/', 'CourseLink': 'https://www.udemy.com/course/cost-accounting-a-comprehensive-study/', 'Rating': '4.1', 'CurrentPrice': '$11.99', 'OriginalPrice': '$19.99', 'Discount': '40%', 'Duration': '35.5'}, {'InstructorName': 'The Numbers Guys', 'InstructorProfile': 'https://www.udemy.com/user/the-numbers-guys/', 'Designation': 'Accounting | Finance | For the Real World', 'Email': '', 'WebLink': 'https://www.the-numbers-guys.com/', 'Facebook': '', 'Twitter': '', 'Instagram': '', 'Linkedin': 'https://linkedin.com/in/ben-wann/', 'Youtube': 'https://www.youtube.com/channel/UCAcYwylNFH3iz98JIH94n7AYwylNFH3iz98JIH94n7A', 'PhoneNo': '', 'Platform': 'udemy', 'CourseName': 'How to Control Your Costs and Increase Profitability', 'CourseLink': 'https://www.udemy.com/course/how-to-control-your-costs-and-increase-profitability/', 'Rating': '4.8', 'CurrentPrice': '$11.39', 'OriginalPrice': '$24.99', 'Discount': '54%', 'Duration': '2'}, {'InstructorName': 'Robert (Bob) Steele', 'InstructorProfile': 'https://www.udemy.com/user/c91d6786-95f3-48d8-ab94-cc92431d2aa4/', 'Designation': 'CPA, CGMA, M.S. Tax, CPI', 'Email': '', 'WebLink': 'http://accountinginstruction.info/', 'Facebook': 'https://www.facebook.com/AccountingInstructionhelp/', 'Twitter': 'https://twitter.com/AccountingInst', 'Instagram': '', 'Linkedin': 'https://linkedin.com/in/robert-bob-steele-cpa-cgma-m-s-tax-76422017', 'Youtube': '', 'PhoneNo': '', 'Platform': 'udemy', 'CourseName': 'Process Costing System-Cost Accounting-Managerial Accounting', 'CourseLink': 'https://www.udemy.com/course/process-costing-system-cost-accounting-managerial-accounting/', 'Rating': '3.6', 'CurrentPrice': '$11.99', 'OriginalPrice': '$199.99', 'Discount': '94%', 'Duration': '8'}, {'InstructorName': 'Chris Severson', 'InstructorProfile': 'https://www.udemy.com/user/chris-severson/', 'Designation': 'Accounting Professor, Training Manager, and Course Developer', 'Email': '', 'WebLink': '', 'Facebook': '', 'Twitter': '', 'Instagram': '', 'Linkedin': 'https://linkedin.com/https://us.linkedin.com/in/christopher-severson-933a447', 'Youtube': 'https://www.youtube.com/https://www.youtube.com/user/MrAccounting101', 'PhoneNo': '', 'Platform': 'udemy', 'CourseName': 'Cost and Managerial Accounting - Part 1', 'CourseLink': 'https://www.udemy.com/course/cost-and-managerial-accounting-part-1/', 'Rating': '4.7', 'CurrentPrice': '$11.99', 'OriginalPrice': '$19.99', 'Discount': '40%', 'Duration': '4.5'}, {'InstructorName': 'Stefan Ignatovski, Ph.D.', 'InstructorProfile': 'https://www.udemy.com/user/stefanignatovski/', 'Designation': 'Professor, Investor and Entrepreneur', 'Email': '', 'WebLink': 'http://www.accountingsky.com/', 'Facebook': 'https://www.facebook.com/illutible', 'Twitter': 'https://twitter.com/illutible', 'Instagram': '', 'Linkedin': 'https://linkedin.com/in/ignatovski', 'Youtube': 'https://www.youtube.com/StefanIgnatovski', 'PhoneNo': '', 'Platform': 'udemy', 'CourseName': 'Introduction to Managerial Accounting', 'CourseLink': 'https://www.udemy.com/course/introduction-to-cost-accounting/', 'Rating': '4.7', 'CurrentPrice': '$12.99', 'OriginalPrice': '$109.99', 'Discount': '88%', 'Duration': '38'}, {'InstructorName': 'Chris Benjamin, MBA & CFO', 'InstructorProfile': 'https://www.udemy.com/user/chrisbenjamin/', 'Designation': 'Instructor & Management Consultant', 'Email': '', 'WebLink': '', 'Facebook': '', 'Twitter': '', 'Instagram': '', 'Linkedin': '', 'Youtube': '', 'PhoneNo': '', 'Platform': 'udemy', 'CourseName': 'The 2020 Complete Masterclass On Managerial Cost Accounting', 'CourseLink': 'https://www.udemy.com/course/accounting-101-learn-cost-accounting-from-a-cfo/', 'Rating': '3.6', 'CurrentPrice': '$11.99', 'OriginalPrice': '$49.99', 'Discount': '76%', 'Duration': '2'}, {'InstructorName': 'Professor Francisco Vigario', 'InstructorProfile': 'https://www.udemy.com/user/francisco-vigario-2/', 'Designation': 'Professor in Managerial Accounting and Finance', 'Email': '', 'WebLink': '', 'Facebook': 'https://www.facebook.com/frisco.vigario', 'Twitter': '', 'Instagram': '', 'Linkedin': 'https://linkedin.com/in/frisco-vigario', 'Youtube': 'https://www.youtube.com/Vigario', 'PhoneNo': '', 'Platform': 'udemy', 'CourseName': 'Variable, Absorption and Activity Based Costing', 'CourseLink': 'https://www.udemy.com/course/variable-absorption-and-activity-based-costing/', 'Rating': '4.3', 'CurrentPrice': '$10.99', 'OriginalPrice': '$19.99', 'Discount': '45%', 'Duration': '3.5'}]\n",
      "Wall time: 1min 59s\n"
     ]
    },
    {
     "name": "stdout",
     "output_type": "stream",
     "text": [
      "{'InstructorName': 'John Mclellan', 'InstructorProfile': 'https://www.udemy.com/user/johnmclellan3/', 'Designation': 'Accounting Professor', 'Email': '', 'WebLink': '', 'Facebook': '', 'Twitter': 'https://twitter.com/Dr%20John@the_acct_coach', 'Instagram': '', 'Linkedin': '', 'Youtube': 'https://www.youtube.com/channel/UCznMDc83U9SG9j8T85GrIGw', 'PhoneNo': '', 'Platform': 'udemy', 'CourseName': 'CMA Management Tools-Understanding Job costs & ABC systems', 'CourseLink': 'https://www.udemy.com/course/dr-johns-understanding-cost-accounting-job-costs-abc/', 'Rating': '4.3', 'CurrentPrice': '$18.99', 'OriginalPrice': '$19.99', 'Discount': '5%', 'Duration': '1.5'}\n",
      "28\n",
      "{'InstructorName': 'Viktoria Nedelcheva', 'InstructorProfile': 'https://www.udemy.com/user/viktoria-nedelcheva-2/', 'Designation': 'Accounting instructor', 'Email': '', 'WebLink': 'https://payhip.com/AccountingIsaPieceOfCake', 'Facebook': 'https://www.facebook.com/accounting.is.a.piece.of.cake/', 'Twitter': 'https://twitter.com/KolevaMail', 'Instagram': '', 'Linkedin': 'https://linkedin.com/in/viktoria-nedelcheva-724890101/', 'Youtube': 'https://www.youtube.com/channel/UCwghPLVfj7GkjJaddpFBCMw', 'PhoneNo': '', 'Platform': 'udemy', 'CourseName': 'First Steps Into Management Accounting', 'CourseLink': 'https://www.udemy.com/course/first-steps-into-management-accounting/', 'Rating': '4.2', 'CurrentPrice': '$11.39', 'OriginalPrice': '$19.99', 'Discount': '43%', 'Duration': '1'}\n",
      "29\n",
      "{'InstructorName': 'Hattem AlHajery', 'InstructorProfile': 'https://www.udemy.com/user/hattem-alhajery/', 'Designation': 'Freelance Finance Professional', 'Email': '', 'WebLink': 'https://hattemalhajery.wordpress.com/', 'Facebook': 'https://www.facebook.com/HattemAlhajery', 'Twitter': '', 'Instagram': '', 'Linkedin': 'https://linkedin.com/pub/11/736/44', 'Youtube': 'https://www.youtube.com/channel/UC8wgotjQEMXn-_mO1qKb3-Q', 'PhoneNo': '', 'Platform': 'udemy', 'CourseName': 'Break-Even Analysis for Business Decision Making', 'CourseLink': 'https://www.udemy.com/course/break-even-analysis-for-business-decision-making/', 'Rating': '3.8', 'CurrentPrice': '$11.99', 'OriginalPrice': '$59.99', 'Discount': '80%', 'Duration': '42'}\n",
      "30\n",
      "3.7\n",
      "3.8\n",
      "{'InstructorName': 'Syed Muhammad Ali Shah', 'InstructorProfile': 'https://www.udemy.com/user/syed-ali-149/', 'Designation': 'Teaching Accounting and Finance for Over Fifteen Years', 'Email': '', 'WebLink': '', 'Facebook': '', 'Twitter': '', 'Instagram': '', 'Linkedin': '', 'Youtube': '', 'PhoneNo': '', 'Platform': 'udemy', 'CourseName': 'Cost Accounting', 'CourseLink': 'https://www.udemy.com/course/cost-accounting-g/', 'Rating': '3.7', 'CurrentPrice': '$18.99', 'OriginalPrice': '$29.99', 'Discount': '37%', 'Duration': '11'}\n",
      "31\n",
      "{'InstructorName': 'Raja Natarajan, B.Com., PGDBA, FCA', 'InstructorProfile': 'https://www.udemy.com/user/caraja/', 'Designation': 'Chartered Accountant', 'Email': '', 'WebLink': 'http://carajaclasses.com/', 'Facebook': 'https://www.facebook.com/ca.raja.3', 'Twitter': 'https://twitter.com/nrajca', 'Instagram': '', 'Linkedin': 'https://linkedin.com/in/ca-n-raja-7b551543', 'Youtube': 'https://www.youtube.com/user/poojaraj2009', 'PhoneNo': '', 'Platform': 'udemy', 'CourseName': 'Problems & Solutions in Cost Accounting', 'CourseLink': 'https://www.udemy.com/course/problems-solutions-in-cost-accounting/', 'Rating': '3.8', 'CurrentPrice': '$19.99', 'OriginalPrice': '$39.99', 'Discount': '50%', 'Duration': '3'}\n",
      "32\n"
     ]
    }
   ],
   "source": [
    "%%time\n",
    "import threading\n",
    "global q, count, threadAlive\n",
    "count = 0\n",
    "q = queue.Queue()\n",
    "threadAlive = 0\n",
    "for link in links:\n",
    "    threading.Thread(target = downData, args=[link, ]).start()\n",
    "    while threadAlive > 5:\n",
    "        time.sleep(1)\n",
    "        \n",
    "data = list()\n",
    "while not q.empty():\n",
    "    temp = q.get()\n",
    "    data.append(temp.copy())\n",
    "print(data)\n",
    "with open(\"data.pickle\", \"wb\") as f:\n",
    "    pickle.dump(data, f)\n",
    "    "
   ]
  },
  {
   "cell_type": "code",
   "execution_count": 9,
   "metadata": {},
   "outputs": [],
   "source": [
    "with open(\"data.pickle\", \"rb\") as f:\n",
    "    data = pickle.load(f)"
   ]
  },
  {
   "cell_type": "code",
   "execution_count": 126,
   "metadata": {},
   "outputs": [
    {
     "name": "stdout",
     "output_type": "stream",
     "text": [
      "53\n",
      "26\n"
     ]
    }
   ],
   "source": [
    "print(len(data))\n",
    "temp = list()\n",
    "names = list()\n",
    "temp1 = list()\n",
    "for i in range(len(data)-1):\n",
    "    if data[i]['InstructorName'] not in names:\n",
    "        names.append(data[i]['InstructorName'])\n",
    "        temp1.append(data[i].copy())\n",
    "    else:\n",
    "        continue\n",
    "        \n",
    "print(len(temp1))   \n",
    "data = temp1"
   ]
  },
  {
   "cell_type": "code",
   "execution_count": 10,
   "metadata": {},
   "outputs": [],
   "source": [
    "import csv\n",
    "csv_file = \"udemysapficoInstructor.csv\"\n",
    "csv_columns = list(data[0].keys())\n",
    "try:\n",
    "    with open(csv_file, 'w', newline='', encoding=\"utf-8\") as csvfile:\n",
    "        writer = csv.DictWriter(csvfile, fieldnames=csv_columns)\n",
    "        writer.writeheader()\n",
    "        for dataT in data:\n",
    "            writer.writerow(dataT)\n",
    "except IOError:\n",
    "    print(\"I/O error\")"
   ]
  },
  {
   "cell_type": "code",
   "execution_count": null,
   "metadata": {},
   "outputs": [],
   "source": []
  }
 ],
 "metadata": {
  "kernelspec": {
   "display_name": "Python 3",
   "language": "python",
   "name": "python3"
  },
  "language_info": {
   "codemirror_mode": {
    "name": "ipython",
    "version": 3
   },
   "file_extension": ".py",
   "mimetype": "text/x-python",
   "name": "python",
   "nbconvert_exporter": "python",
   "pygments_lexer": "ipython3",
   "version": "3.6.8"
  }
 },
 "nbformat": 4,
 "nbformat_minor": 4
}
